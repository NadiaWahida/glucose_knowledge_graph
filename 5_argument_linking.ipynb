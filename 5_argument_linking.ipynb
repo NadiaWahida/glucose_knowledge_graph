{
 "cells": [
  {
   "cell_type": "markdown",
   "id": "a481d240",
   "metadata": {},
   "source": [
    "# Argument Linking of GLUCOSE Rules"
   ]
  },
  {
   "cell_type": "code",
   "execution_count": 1,
   "id": "17f09d4b",
   "metadata": {},
   "outputs": [],
   "source": [
    "import json\n",
    "import pickle\n",
    "import os\n",
    "import amrlib\n",
    "import spacy\n",
    "import re\n",
    "import penman\n",
    "\n",
    "# setup spacy extension for amrlib\n",
    "amrlib.setup_spacy_extension()\n",
    "nlp = spacy.load('en_core_web_sm')\n",
    "\n",
    "# setup faa_aligner\n",
    "os.environ[\"FABIN_DIR\"] = \"/home/nadia/fast_align/build\"\n",
    "from amrlib.alignments.faa_aligner import FAA_Aligner\n",
    "inference = FAA_Aligner()"
   ]
  },
  {
   "cell_type": "markdown",
   "id": "35cf2a8a",
   "metadata": {},
   "source": [
    "Load GLUCOSE data into memory"
   ]
  },
  {
   "cell_type": "code",
   "execution_count": 2,
   "id": "74af3fcb",
   "metadata": {},
   "outputs": [
    {
     "name": "stdout",
     "output_type": "stream",
     "text": [
      "loaded  4584  stories from \"./glucose_data/story_data_final.json\"\n",
      "loaded  4488  story graphs into memory\n"
     ]
    }
   ],
   "source": [
    "with open('./glucose_data/story_data_final.json','r') as f:\n",
    "        stories = json.load(f)\n",
    "print('loaded ',len(stories), ' stories from \"./glucose_data/story_data_final.json\"')\n",
    "\n",
    "def load_graphs(path):\n",
    "    graphs = []\n",
    "    for file in os.listdir(path):\n",
    "        if file.endswith('.pkl'):\n",
    "            with open(path+file, 'rb') as f:\n",
    "                graphs.append(pickle.load(f))\n",
    "    return(graphs)\n",
    "\n",
    "story_graphs = load_graphs('./story_graphs/')\n",
    "print('loaded ', len(story_graphs), ' story graphs into memory')"
   ]
  },
  {
   "cell_type": "markdown",
   "id": "7e18474b",
   "metadata": {},
   "source": [
    "### AMR-String to Graph-Triples\n",
    "\n"
   ]
  },
  {
   "cell_type": "code",
   "execution_count": 3,
   "id": "64e2a676",
   "metadata": {},
   "outputs": [],
   "source": [
    "def get_graph_triples(amr_parse):\n",
    "\n",
    "    lines = []\n",
    "    amr_parse = amr_parse[:-1]\n",
    "    for line in amr_parse.split('\\n'):\n",
    "        if line.startswith('#'):\n",
    "            continue\n",
    "        else:\n",
    "            lines.append(line.strip())\n",
    "        \n",
    "    current_nodes = [lines[0].replace('(','')]\n",
    "    graph_triples = []\n",
    "    for line in lines[1:]:\n",
    "        out_node = current_nodes[-1]\n",
    "        relation = line.split(' ')[0]\n",
    "        line = line.replace(relation+' ','')\n",
    "        node = line.strip().replace('(','').replace(')','')\n",
    "        graph_triples.append((out_node, relation, node))\n",
    "        depth = line.count(')')-line.count('(')\n",
    "        \n",
    "        if line.endswith(')'):\n",
    "            if depth > 0:\n",
    "                current_nodes = current_nodes[:len(current_nodes)-(depth)]\n",
    "        elif '/' not in line:\n",
    "            continue\n",
    "        else:\n",
    "            current_nodes.append(node)\n",
    "    return(graph_triples)"
   ]
  },
  {
   "cell_type": "markdown",
   "id": "750d8112",
   "metadata": {},
   "source": [
    "### Gap-Fillers"
   ]
  },
  {
   "cell_type": "code",
   "execution_count": 4,
   "id": "f6319674",
   "metadata": {},
   "outputs": [],
   "source": [
    "replacers = {'someone_a':'Aria', \"someone_a'\":\"Aria'\", \"someone_a's\":\"Aria's\", 'someone_b':'Deneris',\n",
    "             \"someone_b's\":\"Deneris'\", 'someone_c':'Spook', \"someone_c's\":\"Spook's\", 'someone_d':'Kirk',\n",
    "             'somepeople_a':'Aria', \"somepeople_a's\":\"Aria's\", 'somepeople_b':'Deneris', \n",
    "             'something_a':'crown', \"something_a's\":\"crown's\", 'something_b':'throne', \"something_b's\":\"throne's\", \n",
    "             'something_bs':\"throne's\",\n",
    "             'somethings_a':'somethings',\n",
    "             'somewhere_a':'somewhere'}\n",
    "\n",
    "def rename_fillers(rule):\n",
    "    \n",
    "    rule = rule.split()\n",
    "    for i, word in enumerate(rule):\n",
    "        if word.replace(')','') in replacers.keys():\n",
    "            rule[i] = replacers[word.replace(')','')]\n",
    "    rule = ' '.join(rule)\n",
    "    return(rule)"
   ]
  },
  {
   "cell_type": "markdown",
   "id": "be2a3400",
   "metadata": {},
   "source": [
    "### Story Example"
   ]
  },
  {
   "cell_type": "code",
   "execution_count": 5,
   "id": "800ca11e",
   "metadata": {},
   "outputs": [
    {
     "name": "stdout",
     "output_type": "stream",
     "text": [
      "STORY:\n",
      "\n",
      "Kelly was in the mood for a fruity, tasty treat. It was hot out, so she popped some grapes in the freezer. When they froze, she snacked on them one by one. She even added a few to her soda to keep it cold! Kelly loved her frozen grape treats.\n",
      "\n",
      "\n",
      "RULE EXAMPLE SPECIFIC:\n",
      "\n",
      "Kelly was in the mood for a fruity, tasty treat - Results in - Kelly has added a few to her soda to keep it cold \n",
      "\n",
      "\n",
      "\n",
      "RULE EXAMPLE GENERAL:\n",
      "\n",
      "Someone_A was in the mood for Something_A (frozen treats)  - Results in - Someone_A has added Something_A to their drink to keep it cold \n",
      "\n",
      "# ::snt Kelly was in the mood for a fruity, tasty treat\n",
      "(m / mood\n",
      "      :domain (p / person\n",
      "            :name (n / name\n",
      "                  :op1 \"Kelly\"))\n",
      "      :purpose (t / treat\n",
      "            :mod (f / fruity)\n",
      "            :mod (t2 / tasty)))\n",
      "\n",
      "\n",
      "# ::snt Kelly has added a few to her soda to keep it cold\n",
      "(a / add-02\n",
      "      :ARG0 (p / person\n",
      "            :name (n / name\n",
      "                  :op1 \"Kelly\"))\n",
      "      :ARG1 (f / few)\n",
      "      :ARG2 (s / soda\n",
      "            :poss p)\n",
      "      :purpose (k / keep-02\n",
      "            :ARG0 p\n",
      "            :ARG1 (c / cold-01\n",
      "                  :ARG1 s)))\n",
      "\n",
      "\n",
      "# ::snt Someone_A was in the mood for Something_A (frozen treats)\n",
      "(m / mood\n",
      "      :mod (s / something_A\n",
      "            :ARG1-of (m2 / mean-01\n",
      "                  :ARG2 (t / treat\n",
      "                        :ARG1-of (f / freeze-01))))\n",
      "      :domain (p / person\n",
      "            :name (n / name\n",
      "                  :op1 \"Someone_A\")))\n",
      "\n",
      "\n",
      "# ::snt Someone_A has added Something_A to their drink to keep it cold\n",
      "(a / add-02\n",
      "      :ARG0 (s / someone_A)\n",
      "      :ARG1 (s2 / something_A)\n",
      "      :ARG2 (d / drink\n",
      "            :poss s)\n",
      "      :purpose (k / keep-04\n",
      "            :ARG0 s\n",
      "            :ARG1 (c / cold-01\n",
      "                  :ARG1 d)))\n",
      "\n",
      "\n"
     ]
    }
   ],
   "source": [
    "story_graph = story_graphs[0]\n",
    "story = story_graph.nodes['1303_S']['story']\n",
    "print('STORY:\\n')\n",
    "print(story)\n",
    "rules = story_graph.edges[('1303_0', '1303_3')]['annotations'][0]['rules']\n",
    "print('\\n\\nRULE EXAMPLE SPECIFIC:\\n')\n",
    "print(' - '.join(rules[0]),'\\n')\n",
    "print('\\n\\nRULE EXAMPLE GENERAL:\\n')\n",
    "print(' - '.join(rules[4]),'\\n')\n",
    "\n",
    "parses = [nlp(rules[0][0])._.to_amr(), nlp(rules[0][2])._.to_amr(), nlp(rules[4][0])._.to_amr(), nlp(rules[4][2])._.to_amr()]\n",
    "\n",
    "for parse in parses:\n",
    "    for line in parse:\n",
    "        print(line)\n",
    "    print('\\n')"
   ]
  },
  {
   "cell_type": "code",
   "execution_count": 6,
   "id": "518c21ed",
   "metadata": {},
   "outputs": [
    {
     "name": "stdout",
     "output_type": "stream",
     "text": [
      "[('a / add-02', ':ARG0', 'p / person'), ('p / person', ':name', 'n / name'), ('n / name', ':op1', '\"Kelly\"'), ('a / add-02', ':ARG1', 'f / few'), ('a / add-02', ':ARG2', 's / soda'), ('s / soda', ':poss', 'p'), ('a / add-02', ':purpose', 'k / keep-02'), ('k / keep-02', ':ARG0', 'p'), ('k / keep-02', ':ARG1', 'c / cold-01'), ('c / cold-01', ':ARG1', 's')]\n"
     ]
    }
   ],
   "source": [
    "print(get_graph_triples('\\n'.join(parses[1])))"
   ]
  },
  {
   "cell_type": "markdown",
   "id": "d0439c15",
   "metadata": {},
   "source": [
    "### 1.) Map Arguments of General Rule\n",
    "\n",
    "GENERAL RULE: \n",
    "\n",
    "    Someone_A was in the mood for Something_A ((frozen treats)) \n",
    "    \n",
    "    - Results in - \n",
    "    \n",
    "    Someone_A has added Something_A to their drink to keep it cold\n",
    "\n",
    "\n",
    "\n",
    "#### After parsing the sentences to AMR we want to extract graph triples with the matching GENERALIZER:\n",
    "\n",
    "- SOMEONE_A:\n",
    "\n",
    "    ('m / mood', ':domain', 'p / person') = ('a / add-02', ':ARG0', 'p / person')\n",
    "\n",
    "\n",
    "- SOMETHING_A:\n",
    "\n",
    "    ('m / mood', ':mod', 's / something') = ('a / add-02', ':ARG1', 's / something')"
   ]
  },
  {
   "cell_type": "code",
   "execution_count": 7,
   "id": "23b0709b",
   "metadata": {},
   "outputs": [],
   "source": [
    "def map_arguments(rule):\n",
    "    \n",
    "    argument_mappings = []\n",
    "    left_over = []\n",
    "    \n",
    "    # get general rule\n",
    "    rule = rule[4]\n",
    "    part1, part2 = rule[0].lower(), rule[2].lower()\n",
    "    #print(part1)\n",
    "    #print(part2)\n",
    "\n",
    "    # rename fillers\n",
    "    filler1 = [replacers[word.replace(')','')] for word in part1.split(' ') if '_' in word]\n",
    "    filler2 = [replacers[word.replace(')','')] for word in part2.split(' ') if '_' in word]\n",
    "    filler = {el:[] for el in filler1 if el in filler2}\n",
    "    part1, part2 = rename_fillers(part1), rename_fillers(part2)\n",
    "    #print(part1)\n",
    "    #print(part2)\n",
    "    # save index of fillers in original sentence\n",
    "    for fill in filler:\n",
    "        filler[fill] = [part1.split().index(fill), part2.split().index(fill)]\n",
    "    #print(filler)\n",
    "\n",
    "    # parse to amr\n",
    "    doc1, doc2 = nlp(part1), nlp(part2)\n",
    "    parse_part1, parse_part2 = doc1._.to_amr(), doc2._.to_amr()\n",
    "    triples_part1, triples_part2 = get_graph_triples(parse_part1[0]), get_graph_triples(parse_part2[0])\n",
    "\n",
    "    #print(parse_part1)\n",
    "    #print(parse_part2)\n",
    "\n",
    "    for fill in filler:\n",
    "        fill = filler[fill][0]\n",
    "        fill = re.sub('[()]', '', doc1[fill:fill+1]._.to_amr()[0].split('/ ')[1].split('\\n')[0])\n",
    "        print(fill)\n",
    "        for triple in triples_part1:\n",
    "            #print(triple)\n",
    "            triple1 = (None,None)\n",
    "            if not '_of' in triple[1]:\n",
    "                if fill in triple[2]:\n",
    "                    triple1 = triple\n",
    "                    break\n",
    "            else:\n",
    "                if fill in triple[0]:\n",
    "                    triple1 = triple\n",
    "                    break\n",
    "        for triple in triples_part2:\n",
    "            triple2 = (None,None)\n",
    "            if not '-of' in triple[1]:\n",
    "                if fill in triple[2]:\n",
    "                    triple2 = triple\n",
    "                    break\n",
    "            else:\n",
    "                if fill in triple[0]:\n",
    "                    triple2 = triple\n",
    "                    break\n",
    "        if None not in triple1 and None not in triple2:\n",
    "            mapping = (triple1,triple2)\n",
    "            argument_mappings.append(mapping)\n",
    "        else:\n",
    "            left_over.append(rule)\n",
    "            continue\n",
    "    #print(list(set(argument_mappings)))\n",
    "    #print('\\n\\n')\n",
    "    return((list(set(argument_mappings)),left_over))"
   ]
  },
  {
   "cell_type": "markdown",
   "id": "0f2c0dac",
   "metadata": {},
   "source": [
    "#### Example 1"
   ]
  },
  {
   "cell_type": "code",
   "execution_count": 8,
   "id": "1c0dd769",
   "metadata": {},
   "outputs": [
    {
     "name": "stdout",
     "output_type": "stream",
     "text": [
      "person\n",
      "crown\n",
      "ARGUMENT MAPPINGS:\n",
      "\n",
      "(('m / mood', ':domain', 'p / person'), ('a / add-02', ':ARG0', 'p / person'))\n",
      "(('m / mood', ':mod', 'c / crown'), ('a / add-02', ':ARG1', 'c / crown'))\n"
     ]
    }
   ],
   "source": [
    "argument_mapping, left_over = map_arguments(rules)\n",
    "print('ARGUMENT MAPPINGS:\\n')\n",
    "for mapping in argument_mapping:\n",
    "    print(mapping)"
   ]
  },
  {
   "cell_type": "markdown",
   "id": "b47496a5",
   "metadata": {},
   "source": [
    "#### Example 2"
   ]
  },
  {
   "cell_type": "code",
   "execution_count": 11,
   "id": "dc116164",
   "metadata": {},
   "outputs": [
    {
     "name": "stdout",
     "output_type": "stream",
     "text": [
      "\n",
      "\n",
      "RULE EXAMPLE SPECIFIC:\n",
      "\n",
      "Kelly want(s) a fruity, tasty treat - Motivates - Kelly popped some grapes in the freezer \n",
      "\n",
      "\n",
      "\n",
      "RULE EXAMPLE GENERAL:\n",
      "\n",
      "Someone_A want(s) A fruity, tasty treat - Motivates - Someone_A popped some grapes in the freezer \n",
      "\n",
      "\n",
      "\n",
      "ARGUMENT MAPPING:\n",
      "\n",
      "(('w / want-01', ':ARG0', 'p / person'), ('p / pop-01', ':ARG0', 'p2 / person'))\n"
     ]
    }
   ],
   "source": [
    "rules2 = story_graph.edges[('1303_0', '1303_3')]['annotations'][1]['rules']\n",
    "print('\\n\\nRULE EXAMPLE SPECIFIC:\\n')\n",
    "print(' - '.join(rules2[0]),'\\n')\n",
    "print('\\n\\nRULE EXAMPLE GENERAL:\\n')\n",
    "print(' - '.join(rules2[2]),'\\n')\n",
    "argument_mapping2, left_over2 = map_arguments(rules2)\n",
    "print('\\n\\nARGUMENT MAPPING:\\n')\n",
    "for mapping in argument_mapping2:\n",
    "    print(mapping)"
   ]
  },
  {
   "cell_type": "markdown",
   "id": "84484a32",
   "metadata": {},
   "source": []
  }
 ],
 "metadata": {
  "kernelspec": {
   "display_name": "Python 3",
   "language": "python",
   "name": "python3"
  },
  "language_info": {
   "codemirror_mode": {
    "name": "ipython",
    "version": 3
   },
   "file_extension": ".py",
   "mimetype": "text/x-python",
   "name": "python",
   "nbconvert_exporter": "python",
   "pygments_lexer": "ipython3",
   "version": "3.8.8"
  }
 },
 "nbformat": 4,
 "nbformat_minor": 5
}
